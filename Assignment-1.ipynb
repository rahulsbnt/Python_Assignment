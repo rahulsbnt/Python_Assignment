{
 "cells": [
  {
   "cell_type": "code",
   "execution_count": 42,
   "metadata": {},
   "outputs": [
    {
     "data": {
      "text/plain": [
       "2"
      ]
     },
     "execution_count": 42,
     "metadata": {},
     "output_type": "execute_result"
    }
   ],
   "source": [
    "1+1"
   ]
  },
  {
   "cell_type": "code",
   "execution_count": 181,
   "metadata": {},
   "outputs": [
    {
     "name": "stdout",
     "output_type": "stream",
     "text": [
      "[2002, 2009, 2016, 2023, 2037, 2044, 2051, 2058, 2072, 2079, 2086, 2093, 2107, 2114, 2121, 2128, 2142, 2149, 2156, 2163, 2177, 2184, 2191, 2198, 2212, 2219, 2226, 2233, 2247, 2254, 2261, 2268, 2282, 2289, 2296, 2303, 2317, 2324, 2331, 2338, 2352, 2359, 2366, 2373, 2387, 2394, 2401, 2408, 2422, 2429, 2436, 2443, 2457, 2464, 2471, 2478, 2492, 2499, 2506, 2513, 2527, 2534, 2541, 2548, 2562, 2569, 2576, 2583, 2597, 2604, 2611, 2618, 2632, 2639, 2646, 2653, 2667, 2674, 2681, 2688, 2702, 2709, 2716, 2723, 2737, 2744, 2751, 2758, 2772, 2779, 2786, 2793, 2807, 2814, 2821, 2828, 2842, 2849, 2856, 2863, 2877, 2884, 2891, 2898, 2912, 2919, 2926, 2933, 2947, 2954, 2961, 2968, 2982, 2989, 2996, 3003, 3017, 3024, 3031, 3038, 3052, 3059, 3066, 3073, 3087, 3094, 3101, 3108, 3122, 3129, 3136, 3143, 3157, 3164, 3171, 3178, 3192, 3199]\n"
     ]
    }
   ],
   "source": [
    "nDivisible = list()\n",
    "\n",
    "for i in range(2000,3201):\n",
    "    if (i%7) == 0 and (i%5) != 0:\n",
    "        nDivisible.append(i)\n",
    "\n",
    "print(nDivisible)"
   ]
  },
  {
   "cell_type": "code",
   "execution_count": 126,
   "metadata": {},
   "outputs": [
    {
     "name": "stdout",
     "output_type": "stream",
     "text": [
      "Enter your first name: Rahul\n",
      "Enter your last name: Ramachandran\n",
      "Ramachandran Rahul\n"
     ]
    }
   ],
   "source": [
    "strfName = input(\"Enter your first name: \")\n",
    "strlName = input(\"Enter your last name: \")\n",
    "print(strlName + \" \" + strfName)"
   ]
  },
  {
   "cell_type": "code",
   "execution_count": 60,
   "metadata": {},
   "outputs": [
    {
     "name": "stdout",
     "output_type": "stream",
     "text": [
      "Volume of a sphere with diameter 12 cm = 904.7786842338603\n"
     ]
    }
   ],
   "source": [
    "import math\n",
    "Diameter = 12 \n",
    "Radius = Diameter/2\n",
    "\n",
    "print(\"Volume of a sphere with diameter 12 cm = \" + str((4/3 * math.pi * pow(6,3))))\n",
    "#math.pi "
   ]
  },
  {
   "cell_type": "code",
   "execution_count": 140,
   "metadata": {},
   "outputs": [
    {
     "name": "stdout",
     "output_type": "stream",
     "text": [
      "Enter list of numbers: 1,2,7,65,87,98,109,9082\n"
     ]
    },
    {
     "data": {
      "text/plain": [
       "['1', '2', '7', '65', '87', '98', '109', '9082']"
      ]
     },
     "execution_count": 140,
     "metadata": {},
     "output_type": "execute_result"
    }
   ],
   "source": [
    "strNumbers = input(\"Enter list of numbers: \")\n",
    "lst1 = strNumbers.split(\",\")\n",
    "lst1"
   ]
  },
  {
   "cell_type": "code",
   "execution_count": 124,
   "metadata": {},
   "outputs": [
    {
     "name": "stdout",
     "output_type": "stream",
     "text": [
      "*\n",
      "**\n",
      "***\n",
      "****\n",
      "*****\n",
      "****\n",
      "***\n",
      "**\n",
      "*\n"
     ]
    }
   ],
   "source": [
    "for i in range(6,1,-1):\n",
    "    for j in range(1,i-1):\n",
    "        if i < 6:\n",
    "            break\n",
    "        print('*' * j)\n",
    "    print('*' * (i-1))\n",
    "     "
   ]
  },
  {
   "cell_type": "code",
   "execution_count": 128,
   "metadata": {},
   "outputs": [
    {
     "name": "stdout",
     "output_type": "stream",
     "text": [
      "Enter a word to reverse: AcadGild\n",
      "dliGdacA\n"
     ]
    }
   ],
   "source": [
    "strReverse = input(\"Enter a word to reverse: \")\n",
    "print(strReverse[::-1])"
   ]
  },
  {
   "cell_type": "code",
   "execution_count": 180,
   "metadata": {},
   "outputs": [
    {
     "name": "stdout",
     "output_type": "stream",
     "text": [
      "WE, THE PEOPLE OF INDIA,\n",
      "\t having solemnly resolved to constitute India into a SOVEREIGN, !\n",
      "\t\t SOCIALIST, SECULAR, DEMOCRATIC REPUBLIC\n",
      "\t\t  and to secure to all its citizens\n"
     ]
    }
   ],
   "source": [
    "strSentence = \"\"\"WE, THE PEOPLE OF INDIA, having solemnly resolved to constitute India into a\n",
    "SOVEREIGN, SOCIALIST, SECULAR, DEMOCRATIC REPUBLIC and to secure to all\n",
    "its citizens\"\"\"\n",
    "#strSentence = strSentence.replace(\"INDIA,\",\"INDIA,\\n\\t\").replace(\"into a\\n\",\"into a \").replace(\"SOVEREIGN,\",\"SOVEREIGN, !\\n\\t\\t\").replace(\"REPUBLIC\",\"REPUBLIC\\n\\t\\t \")\n",
    "\n",
    "\n",
    "strSentence = strSentence.replace(\"INDIA,\",\"INDIA,\\n\\t\")\n",
    "strSentence = strSentence.replace(\"into a\\n\",\"into a \")\n",
    "strSentence = strSentence.replace(\"SOVEREIGN,\",\"SOVEREIGN, !\\n\\t\\t\")\n",
    "strSentence = strSentence.replace(\"REPUBLIC\",\"REPUBLIC\\n\\t\\t \")\n",
    "strSentence = strSentence.replace(\"all\\n\",\"all \")\n",
    "print(strSentence)"
   ]
  }
 ],
 "metadata": {
  "kernelspec": {
   "display_name": "Python 3",
   "language": "python",
   "name": "python3"
  },
  "language_info": {
   "codemirror_mode": {
    "name": "ipython",
    "version": 3
   },
   "file_extension": ".py",
   "mimetype": "text/x-python",
   "name": "python",
   "nbconvert_exporter": "python",
   "pygments_lexer": "ipython3",
   "version": "3.7.6"
  }
 },
 "nbformat": 4,
 "nbformat_minor": 4
}
